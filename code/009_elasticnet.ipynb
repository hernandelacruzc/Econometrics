{
 "cells": [
  {
   "cell_type": "code",
   "execution_count": 1,
   "id": "f5c53fab-fa12-47d9-a3e5-d67d11f36ce5",
   "metadata": {},
   "outputs": [],
   "source": [
    "%%capture\n",
    "import stata_setup, os\n",
    "if os.name == 'nt':\n",
    "    stata_setup.config('C:/Program Files/Stata17/','mp')\n",
    "else:\n",
    "    stata_setup.config('/usr/local/stata17','mp')"
   ]
  },
  {
   "cell_type": "code",
   "execution_count": 2,
   "id": "0b9d7e97-27e3-43bb-bd11-50b9cef3b215",
   "metadata": {},
   "outputs": [
    {
     "name": "stdout",
     "output_type": "stream",
     "text": [
      "\n"
     ]
    }
   ],
   "source": [
    "%%stata -qui\n",
    "\n",
    "use \"../data/data\", clear\n",
    "rename log_flesch_kincaid_grade_level FKG\n",
    "quietly tabulate year, generate(y_)\n",
    "quietly tabulate cluster, generate(c_)\n",
    "\n",
    "local journals  ecm jpe qje res  //AER based category\n",
    "\n",
    "local jel_imp a_imp b_imp c_imp  e_imp f_imp g_imp h_imp i_imp j_imp k_imp /// \n",
    "\t\tl_imp m_imp n_imp o_imp p_imp q_imp r_imp y_imp z_imp // D JEL based case"
   ]
  },
  {
   "cell_type": "markdown",
   "id": "6418a211-2df5-47a5-a1c8-bcba3279a396",
   "metadata": {},
   "source": [
    "## Elastic Net"
   ]
  },
  {
   "cell_type": "code",
   "execution_count": 3,
   "id": "10748dd7-48d8-4689-813e-9e4865392480",
   "metadata": {},
   "outputs": [
    {
     "name": "stdout",
     "output_type": "stream",
     "text": [
      "\n",
      ". #delimit ;\n",
      "delimiter now ;\n",
      ". elasticnet linear FKG log_num_authors log_num_pages both_genders prop_women\n",
      ">                   `journals' `jel_imp' y_2-y_20  c_2-c_215  jel_flag,\n",
      ">                   alpha(.0001 (0.0001) .0005) nolog folds(20) rseed(42);\n",
      "\n",
      "Elastic net linear model                         No. of obs        =      4,988\n",
      "                                                 No. of covariates =        252\n",
      "Selection: Cross-validation                      No. of CV folds   =         20\n",
      "\n",
      "-------------------------------------------------------------------------------\n",
      "               |                               No. of      Out-of-      CV mean\n",
      "               |                              nonzero       sample   prediction\n",
      "alpha       ID |     Description      lambda    coef.    R-squared        error\n",
      "---------------+---------------------------------------------------------------\n",
      "0.001          |\n",
      "             1 |    first lambda    137.8993        0      -0.0005     .0281457\n",
      "            61 |     last lambda    .6674678      235       0.0187      .027607\n",
      "---------------+---------------------------------------------------------------\n",
      "0.000          |\n",
      "            62 |    first lambda    137.8993        0      -0.0005     .0281457\n",
      "           122 |     last lambda    .6674678      237       0.0184     .0276154\n",
      "---------------+---------------------------------------------------------------\n",
      "0.000          |\n",
      "           123 |    first lambda    137.8993        0      -0.0005     .0281457\n",
      "           182 |     last lambda    .7325451      238       0.0190     .0275986\n",
      "---------------+---------------------------------------------------------------\n",
      "0.000          |\n",
      "           183 |    first lambda    137.8993        0      -0.0005     .0281457\n",
      "           242 |     last lambda    .7325451      243       0.0187     .0276068\n",
      "---------------+---------------------------------------------------------------\n",
      "0.000          |\n",
      "           243 |    first lambda    137.8993        0      -0.0005     .0281457\n",
      "           294 |   lambda before    1.541937      241       0.0217     .0275225\n",
      "         * 295 | selected lambda    1.404956      242       0.0217     .0275207\n",
      "           296 |    lambda after    1.280143      243       0.0217     .0275227\n",
      "           301 |     last lambda    .8039673      249       0.0192     .0275911\n",
      "-------------------------------------------------------------------------------\n",
      "* alpha and lambda selected by cross-validation.\n",
      "\n",
      ". #delimit cr\n",
      "delimiter now cr\n",
      ". \n"
     ]
    }
   ],
   "source": [
    "%%stata\n",
    "#delimit ;\n",
    "elasticnet linear FKG log_num_authors log_num_pages both_genders prop_women\n",
    "                  `journals' `jel_imp' y_2-y_20  c_2-c_215  jel_flag,\n",
    "                  alpha(.0001 (0.0001) .0005) nolog folds(20) rseed(42);\n",
    "#delimit cr"
   ]
  },
  {
   "cell_type": "code",
   "execution_count": null,
   "id": "53e2ef79-7cf6-4fce-ba4f-2bde4ac047a2",
   "metadata": {},
   "outputs": [],
   "source": []
  },
  {
   "cell_type": "code",
   "execution_count": null,
   "id": "5769d2e2-e1c5-48c5-afe3-b6591e10bd0e",
   "metadata": {},
   "outputs": [],
   "source": []
  },
  {
   "cell_type": "code",
   "execution_count": null,
   "id": "d135fb9f-4531-4f88-9d41-6ac48788bbf1",
   "metadata": {},
   "outputs": [],
   "source": []
  }
 ],
 "metadata": {
  "kernelspec": {
   "display_name": "Python 3 (ipykernel)",
   "language": "python",
   "name": "python3"
  },
  "language_info": {
   "codemirror_mode": {
    "name": "ipython",
    "version": 3
   },
   "file_extension": ".py",
   "mimetype": "text/x-python",
   "name": "python",
   "nbconvert_exporter": "python",
   "pygments_lexer": "ipython3",
   "version": "3.11.0"
  },
  "vscode": {
   "interpreter": {
    "hash": "11938c6bc6919ae2720b4d5011047913343b08a43b18698fd82dedb0d4417594"
   }
  }
 },
 "nbformat": 4,
 "nbformat_minor": 5
}

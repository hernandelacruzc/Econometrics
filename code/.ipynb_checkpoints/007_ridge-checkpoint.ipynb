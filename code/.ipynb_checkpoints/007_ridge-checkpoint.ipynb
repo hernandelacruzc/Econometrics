{
 "cells": [
  {
   "cell_type": "code",
   "execution_count": null,
   "id": "a1b938f9-22f8-4bea-9ad9-3f5cb552eff3",
   "metadata": {},
   "outputs": [],
   "source": [
    "%%capture\n",
    "import stata_setup, os\n",
    "if os.name == 'nt':\n",
    "    stata_setup.config('C:/Program Files/Stata17/','mp')\n",
    "else:\n",
    "    stata_setup.config('/usr/local/stata17','mp')"
   ]
  },
  {
   "cell_type": "code",
   "execution_count": null,
   "id": "0a840f77-016f-4994-8685-7b904225d65a",
   "metadata": {},
   "outputs": [],
   "source": [
    "%%stata -qui\n",
    "\n",
    "use \"../data/data\", clear\n",
    "rename log_flesch_kincaid_grade_level FKG\n",
    "quietly tabulate year, generate(y_)\n",
    "quietly tabulate cluster, generate(c_)\n",
    "\n",
    "local journals  ecm jpe qje res  //AER based category\n",
    "\n",
    "local jel_imp a_imp b_imp c_imp  e_imp f_imp g_imp h_imp i_imp j_imp k_imp /// \n",
    "\t\tl_imp m_imp n_imp o_imp p_imp q_imp r_imp y_imp z_imp // D JEL based case"
   ]
  },
  {
   "cell_type": "markdown",
   "id": "9210ce92-8ed6-4a2e-b3de-341b6b677ee7",
   "metadata": {},
   "source": [
    "## Ridge Regression"
   ]
  },
  {
   "cell_type": "markdown",
   "id": "7a3ea8a2-ed77-44ac-936f-89b1a8e26d40",
   "metadata": {},
   "source": [
    "The ridge regression estimator\n",
    "\n",
    "$$\n",
    "\\widehat{\\beta}_{\\text {ridge }}=\\left(\\boldsymbol{X}^{\\prime} \\boldsymbol{X}+\\lambda \\boldsymbol{I}_{p}\\right)^{-1} \\boldsymbol{X}^{\\prime} \\boldsymbol{Y}\n",
    "$$\n",
    "\n",
    "where $\\lambda>0$ is called the _ridge_ parameter."
   ]
  },
  {
   "cell_type": "code",
   "execution_count": null,
   "id": "7726c11f-0f24-49dc-a394-a73a69c8abee",
   "metadata": {},
   "outputs": [],
   "source": [
    "%%stata -qui -eret steret\n",
    "#delimit ;\n",
    "quietly elasticnet linear FKG log_num_authors log_num_pages both_genders prop_women\n",
    "        `journals' `jel_imp' y_2-y_20  c_2-c_215  jel_flag, alpha(0) lambda(5.34) nolog;\n",
    "#delimit cr"
   ]
  },
  {
   "cell_type": "code",
   "execution_count": null,
   "id": "81fe7d3d-b5f8-461c-b34d-1af805a14c2f",
   "metadata": {},
   "outputs": [],
   "source": [
    "import numpy as np\n",
    "np.set_printoptions(formatter={'float': '{: 0.3f}'.format})\n",
    "steret['e(b)']"
   ]
  },
  {
   "cell_type": "code",
   "execution_count": null,
   "id": "f95b921d-414b-43de-b2f9-53c798088d3c",
   "metadata": {},
   "outputs": [],
   "source": [
    "%%stata\n",
    "#delimit ;\n",
    "elasticnet linear FKG log_num_authors log_num_pages both_genders prop_women\n",
    "        `journals' `jel_imp' y_2-y_20  c_2-c_215  jel_flag,\n",
    "        alpha(0) lambda(1.3(.1)1.5) folds(4988) nolog;\n",
    "#delimit cr"
   ]
  },
  {
   "cell_type": "code",
   "execution_count": null,
   "id": "4d86613b-236c-44cb-81ae-8992417949d8",
   "metadata": {},
   "outputs": [],
   "source": [
    "%%stata -qui\n",
    "#delimit ;\n",
    "elasticnet linear FKG log_num_authors log_num_pages both_genders prop_women\n",
    "        `journals' `jel_imp' y_2-y_20  c_2-c_215  jel_flag,\n",
    "        alpha(0) lambda(1.4) nolog;\n",
    "#delimit cr"
   ]
  },
  {
   "cell_type": "code",
   "execution_count": null,
   "id": "2ade78df-f5b3-4566-826b-6fceca66aa67",
   "metadata": {},
   "outputs": [],
   "source": [
    "%stata matrix list r(table)"
   ]
  },
  {
   "cell_type": "code",
   "execution_count": null,
   "id": "05752cc3-3a9e-4fdf-bf15-4b747e572292",
   "metadata": {},
   "outputs": [],
   "source": [
    "%%stata\n",
    "predict FKG_hat, xb\n",
    "gen ehat = FKG - FKG_hat\n",
    "set scheme s1mono\n",
    "histogram ehat"
   ]
  }
 ],
 "metadata": {
  "kernelspec": {
   "display_name": "Python 3 (ipykernel)",
   "language": "python",
   "name": "python3"
  },
  "language_info": {
   "codemirror_mode": {
    "name": "ipython",
    "version": 3
   },
   "file_extension": ".py",
   "mimetype": "text/x-python",
   "name": "python",
   "nbconvert_exporter": "python",
   "pygments_lexer": "ipython3",
   "version": "3.11.0"
  },
  "vscode": {
   "interpreter": {
    "hash": "11938c6bc6919ae2720b4d5011047913343b08a43b18698fd82dedb0d4417594"
   }
  }
 },
 "nbformat": 4,
 "nbformat_minor": 5
}

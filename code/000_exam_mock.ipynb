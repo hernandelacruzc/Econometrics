{
 "cells": [
  {
   "cell_type": "markdown",
   "metadata": {},
   "source": [
    "<center>\n",
    "\n",
    "# BCRP | 2025 Curso de Extensión de Economía Avanzada\n",
    "## \"High-Dimensional Econometrics\"\n",
    "\n",
    "</center>"
   ]
  },
  {
   "cell_type": "markdown",
   "metadata": {},
   "source": [
    "**Code:** Student's numerical code"
   ]
  },
  {
   "cell_type": "markdown",
   "metadata": {},
   "source": [
    "**<ins>Instructions</ins>**: This exam has two parts. Please answer _all_ questions in the space provided below each cell either in English or Español. Full marks are not only given for correct answers but for elegance, preciseness, and presentation. Please make sure your notebook runs without an error.\n",
    "\n",
    "**<ins>Note 1</ins>**: If you are seeking to earn my recommendation letter for future doctoral studies, you must score among the 2 _highest_ scores in the class.\n",
    "\n",
    "**<ins>Note 2</ins>**: Your notebook should be fully executed (and without error) before submission. Failure to do so, will mean a that all earned points will be multiplied by 0.9, i.e., a 10\\% penalty.\n",
    "\n",
    "**<ins>Note 3</ins>**: There will be a 10% penalty for each minute pass the deadline of 09:00 pm on January 12th, 2025."
   ]
  },
  {
   "cell_type": "markdown",
   "metadata": {},
   "source": [
    "<center>\n",
    "\n",
    "### Part I\n",
    "\n",
    "</center>"
   ]
  },
  {
   "cell_type": "markdown",
   "metadata": {},
   "source": [
    "#### Question 1"
   ]
  },
  {
   "cell_type": "markdown",
   "metadata": {},
   "source": [
    "(a) Part a"
   ]
  },
  {
   "cell_type": "markdown",
   "metadata": {},
   "source": [
    "_Answer_:\n",
    "\n",
    "Empezamos con la fórmula del coeficiente de correlación: \n",
    "$$\n",
    "r_{Y, \\hat{Y}} = \\frac{\\mathrm{Cov}(Y, \\hat{Y})}{{\\sigma_Y} \\cdot {\\sigma_\\hat{Y}}} = \\frac{\\mathrm{Cov}(Y, \\hat{Y})}{\\sqrt{\\mathrm{Var}(Y)} \\cdot \\sqrt{\\mathrm{Var}(\\hat{Y})}}  \n",
    "$$\n",
    "\n",
    "Elevamos al cuadrado ambos lados:\n",
    "\n",
    "$$\n",
    "(r_{y, \\hat{y}})^2 = \\frac{\\left( \\mathrm{Cov}(y, \\hat{y}) \\right)^2}{\\mathrm{Var}(y) \\cdot \\mathrm{Var}(\\hat{y})}$$\n"
   ]
  },
  {
   "cell_type": "markdown",
   "metadata": {},
   "source": [
    "#### Question 2"
   ]
  },
  {
   "cell_type": "markdown",
   "metadata": {},
   "source": [
    "This is question 2."
   ]
  },
  {
   "cell_type": "markdown",
   "metadata": {},
   "source": [
    "_Answer_: \n",
    "\n",
    "**(a)** El estimador \"plug-in\" es:\n",
    "$$\n",
    "\\hat{\\mu}_k = \\int_{-\\infty}^\\infty y^k \\, d\\hat{F}(y) \\tag{1}\n",
    "$$\n",
    "\n",
    "Debido que: $$F(y) = \\Pr\\{Y \\leq y\\}, \\, \\text{el estimador plug-in de } F(y) \\text{ para una muestra } \\{Y_i : i = 1, 2, \\dots, n\\} \\text{ es:}$$\n",
    "$$\n",
    "\\hat{F}(y) = \\frac{1}{n} \\sum_{i=1}^n \\mathbf{1}(Y_i \\leq y) \\tag{2}\n",
    "$$\n",
    "\n",
    "Reemplazando $(2)$ en $(1)$:\n",
    "$$\n",
    "\\hat{\\mu}_k = \\frac{1}{n} \\sum_{i=1}^n Y_i^k\n",
    "$$\n",
    "\n",
    "**(b)** Mostrar que $\\hat{\\mu}_k$ es insesgado para $\\mu_k$:\n",
    "\n",
    "$$\n",
    "\\mathbb{E}[\\hat{\\mu}_k] = \\mathbb{E} \\left[ \\frac{1}{n} \\sum_{i=1}^n Y_i^k \\right]\n",
    "$$\n",
    "$$\n",
    "\\mathbb{E}[\\hat{\\mu}_k] = \\frac{1}{n} \\mathbb{E} \\left[ \\sum_{i=1}^n Y_i^k \\right]\n",
    "$$\n",
    "$$\n",
    "\\mathbb{E}[\\hat{\\mu}_k] = \\frac{1}{n} \\sum_{i=1}^n \\mathbb{E}[Y_i^k]\n",
    "$$\n",
    "$$\n",
    "\\mathbb{E}[\\hat{\\mu}_k] = \\frac{1}{n} \\cdot n \\cdot \\mu_k = \\mu_k\n",
    "$$\n",
    "\n",
    "\n",
    "**(c)** Calcular la varianza de $\\hat{\\mu}_k$:\n",
    "\n",
    "$$\n",
    "\\text{Var}(\\hat{\\mu}_k) = \\text{Var} \\left( \\frac{1}{n} \\sum_{i=1}^n Y_i^k \\right)\n",
    "$$\n",
    "$$\n",
    "= \\frac{1}{n^2} \\text{Var} \\left( \\sum_{i=1}^n Y_i^k \\right) = \\frac{1}{n^2} \\left( \\sum_{i=1}^n \\text{Var}(Y_i^k) + 2 \\sum_{i \\neq j} \\text{Cov}(Y_i^k, Y_j^k) \\right)\n",
    "$$\n",
    "\n",
    "Bajo el supuesto de $\\{Y_i^k\\}_{i=1}^n \\sim \\text{i.i.d.}$:\n",
    "$$\n",
    "\\text{Cov}(Y_i^k, Y_j^k) = 0\n",
    "$$\n",
    "$$\n",
    "\\text{Var}(Y_1^k) = \\text{Var}(Y_2^k) = \\dots = \\text{Var}(Y_i^k)\n",
    "$$\n",
    "\n",
    "Entonces:\n",
    "$$\n",
    "\\frac{1}{n^2} \\sum_{i=1}^n \\text{Var}(Y_i^k) = \\frac{1}{n^2} n \\, \\text{Var}(Y_i^k)\n",
    "$$\n",
    "$$\n",
    "= \\frac{1}{n} \\text{Var}(Y_i^k)\n",
    "$$\n",
    "\n",
    "**(d)** Cálculo de $\\text{Var}(\\hat{\\mu}_k)$:\n",
    "$$\n",
    "\\text{Var}(\\hat{\\mu}_k) = \\frac{1}{n} \\text{Var}(Y^k) = \\frac{1}{n} \\left( \\mathbb{E}[Y^{2k}] - (\\mathbb{E}[Y^k])^2 \\right)\n",
    "$$\n",
    "\n",
    "Utilizando los estimadores naturales de las esperanzas (momentos):\n",
    "$$\n",
    "\\widehat{\\text{Var}}(\\hat{\\mu}_k) = \\frac{1}{n} \\left( \\frac{1}{n} \\sum_{i=1}^n Y_i^{2k} - \\left( \\frac{1}{n} \\sum_{i=1}^n Y_i^k \\right)^2 \\right)\n",
    "$$\n",
    "$$\n",
    "= \\frac{1}{n^2} \\sum_{i=1}^n Y_i^{2k} - \\frac{n}{n^2} \\left( \\frac{1}{n} \\sum_{i=1}^n Y_i^k \\right)^2\n",
    "$$\n",
    "$$\n",
    "= \\frac{1}{n^2} \\sum_{i=1}^n Y_i^{2k} - \\frac{1}{n} \\left( \\frac{1}{n} \\sum_{i=1}^n Y_i^k \\right)^2\n",
    "$$\n",
    "$$\n",
    "\\text{Var}(\\hat{\\mu}_k) = \\frac{1}{n^2} \\sum_{i=1}^n Y_i^{2k} - 2 \\frac{1}{n} \\sum_{i=1}^n Y_i^k \\, \\hat{\\mu}_k + \\hat{\\mu}_k^2\n",
    "$$\n",
    "\n",
    "Como:\n",
    "$$\n",
    "n \\hat{\\mu}_k^2 = \\sum_{i=1}^n Y_i^k \\hat{\\mu}_k = n \\hat{\\mu}_k \\, \\hat{\\mu}_k = \\hat{\\mu}_k \\sum_{i=1}^n Y_i^k\n",
    "$$\n",
    "\n",
    "Finalmente:\n",
    "$$\n",
    "\\widehat{\\text{Var}}(\\hat{\\mu}_k) = \\frac{1}{n^2} \\left\\{ \\sum_{i=1}^n Y_i^{2k} - 2 \\sum_{i=1}^n Y_i^k \\hat{\\mu}_k + n \\hat{\\mu}_k^2 \\right\\}\n",
    "$$\n",
    "\n"
   ]
  },
  {
   "cell_type": "markdown",
   "metadata": {},
   "source": [
    "#### Question 3"
   ]
  },
  {
   "cell_type": "markdown",
   "metadata": {},
   "source": [
    "(a) Part a"
   ]
  },
  {
   "cell_type": "markdown",
   "metadata": {},
   "source": [
    "_Answer_:"
   ]
  },
  {
   "cell_type": "markdown",
   "metadata": {},
   "source": [
    "#### Question 4"
   ]
  },
  {
   "cell_type": "markdown",
   "metadata": {},
   "source": [
    "(a) Part a"
   ]
  },
  {
   "cell_type": "markdown",
   "metadata": {},
   "source": [
    "_Answer_:"
   ]
  },
  {
   "cell_type": "markdown",
   "metadata": {},
   "source": [
    "#### Question 5"
   ]
  },
  {
   "cell_type": "markdown",
   "metadata": {},
   "source": [
    "_Answer_:"
   ]
  },
  {
   "cell_type": "markdown",
   "metadata": {},
   "source": [
    "#### Question 6"
   ]
  },
  {
   "cell_type": "markdown",
   "metadata": {},
   "source": [
    "(a) Part a goes here"
   ]
  },
  {
   "cell_type": "markdown",
   "metadata": {},
   "source": [
    "_Answer_:"
   ]
  },
  {
   "cell_type": "markdown",
   "metadata": {},
   "source": [
    "#### Question 7"
   ]
  },
  {
   "cell_type": "markdown",
   "metadata": {},
   "source": [
    "_Answer_:"
   ]
  },
  {
   "cell_type": "markdown",
   "metadata": {},
   "source": [
    "<center>\n",
    "\n",
    "### Part II\n",
    "\n",
    "</center>"
   ]
  },
  {
   "cell_type": "code",
   "execution_count": null,
   "metadata": {},
   "outputs": [],
   "source": [
    "%%capture\n",
    "import stata_setup, os\n",
    "if os.name == 'nt':\n",
    "    stata_setup.config('C:/Program Files/Stata17/','mp')\n",
    "else:\n",
    "    stata_setup.config('/usr/local/stata17','mp')"
   ]
  },
  {
   "cell_type": "markdown",
   "metadata": {},
   "source": [
    "#### Question 8"
   ]
  },
  {
   "cell_type": "markdown",
   "metadata": {},
   "source": [
    "(a) Question 8 text goes here asking for code and then a written answer."
   ]
  },
  {
   "cell_type": "code",
   "execution_count": null,
   "metadata": {},
   "outputs": [],
   "source": [
    "# Your succint and elegant Stata or Python code goes here"
   ]
  },
  {
   "cell_type": "markdown",
   "metadata": {},
   "source": [
    "_Answer_:"
   ]
  },
  {
   "cell_type": "markdown",
   "metadata": {
    "jp-MarkdownHeadingCollapsed": true
   },
   "source": [
    "#### Question 9"
   ]
  },
  {
   "cell_type": "markdown",
   "metadata": {},
   "source": [
    "(a) Question 9 text goes here asking for code and then a written answer."
   ]
  },
  {
   "cell_type": "code",
   "execution_count": null,
   "metadata": {},
   "outputs": [],
   "source": [
    "# Your succint and elegant Stata or Python code goes here"
   ]
  },
  {
   "cell_type": "markdown",
   "metadata": {},
   "source": [
    "_Answer_:"
   ]
  },
  {
   "cell_type": "markdown",
   "metadata": {
    "jp-MarkdownHeadingCollapsed": true
   },
   "source": [
    "#### Question 10"
   ]
  },
  {
   "cell_type": "markdown",
   "metadata": {},
   "source": [
    "(a) Question 10 text goes here asking for code and then a written answer."
   ]
  },
  {
   "cell_type": "code",
   "execution_count": null,
   "metadata": {},
   "outputs": [],
   "source": [
    "# Your succint and elegant Stata or Python code goes here"
   ]
  }
 ],
 "metadata": {
  "kernelspec": {
   "display_name": "Python 3 (ipykernel)",
   "language": "python",
   "name": "python3"
  },
  "language_info": {
   "codemirror_mode": {
    "name": "ipython",
    "version": 3
   },
   "file_extension": ".py",
   "mimetype": "text/x-python",
   "name": "python",
   "nbconvert_exporter": "python",
   "pygments_lexer": "ipython3",
   "version": "3.11.0"
  }
 },
 "nbformat": 4,
 "nbformat_minor": 4
}
